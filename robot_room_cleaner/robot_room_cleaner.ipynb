{
 "cells": [
  {
   "cell_type": "code",
   "execution_count": 1,
   "metadata": {},
   "outputs": [],
   "source": [
    "class Robot:\n",
    "    \n",
    "    def __init__(self):\n",
    "        self.room = [\n",
    "          [1,1,1,1,1,0,1,1],\n",
    "          [1,1,1,1,1,0,1,1],\n",
    "          [1,0,1,1,1,1,1,1],\n",
    "          [0,0,0,1,0,0,0,0],\n",
    "          [1,1,1,1,1,1,1,1]\n",
    "        ]\n",
    "        self.row = 1\n",
    "        self.col = 3\n",
    "        self.dir = (-1, 0) # up\n",
    "\n",
    "    def move(self):\n",
    "        \"\"\"\n",
    "        Returns true if the cell in front is open and robot moves into the cell.\n",
    "        Returns false if the cell in front is blocked and robot stays in the current cell.\n",
    "        :rtype bool\n",
    "        \"\"\"\n",
    "        delta_row, delta_col = self.dir\n",
    "        \n",
    "        next_row = self.row + delta_row\n",
    "        next_col = self.col + delta_col\n",
    "        \n",
    "        if next_row < 0 or next_row >= len(self.room):\n",
    "            return False\n",
    "        \n",
    "        if next_col < 0 or next_col >= len(self.room[0]):\n",
    "            return False\n",
    "        \n",
    "        if self.room[next_row][next_col] == 0:\n",
    "            return False\n",
    "        \n",
    "        self.row, self.col = next_row, next_col\n",
    "        return True\n",
    "\n",
    "    def turnLeft(self):\n",
    "        \"\"\"\n",
    "        Robot will stay in the same cell after calling turnLeft/turnRight.\n",
    "        Each turn will be 90 degrees.\n",
    "        :rtype void\n",
    "        \"\"\"\n",
    "        delta_row, delta_col = self.dir\n",
    "        \n",
    "        if delta_row == 0:\n",
    "            new_delta_row = -delta_col\n",
    "        else:\n",
    "            new_delta_row = 0\n",
    "            \n",
    "        if delta_col == 0:\n",
    "            new_delta_col = delta_row\n",
    "        else:\n",
    "            new_delta_col = 0\n",
    "            \n",
    "        self.dir = (new_delta_row, new_delta_col)\n",
    "        \n",
    "\n",
    "    def turnRight(self):\n",
    "        \"\"\"\n",
    "        Robot will stay in the same cell after calling turnLeft/turnRight.\n",
    "        Each turn will be 90 degrees.\n",
    "        :rtype void\n",
    "        \"\"\"\n",
    "        delta_row, delta_col = self.dir\n",
    "        \n",
    "        if delta_row == 0:\n",
    "            new_delta_row = delta_col\n",
    "        else:\n",
    "            new_delta_row = 0\n",
    "            \n",
    "        if delta_col == 0:\n",
    "            new_delta_col = -delta_row\n",
    "        else:\n",
    "            new_delta_col = 0\n",
    "            \n",
    "        self.dir = (new_delta_row, new_delta_col)\n",
    "\n",
    "    def clean(self):\n",
    "        \"\"\"\n",
    "        Clean the current cell.\n",
    "        :rtype void\n",
    "        \"\"\"\n",
    "        self.room[self.row][self.col] = 'C'\n"
   ]
  },
  {
   "cell_type": "code",
   "execution_count": 2,
   "metadata": {},
   "outputs": [],
   "source": [
    "class Solution:\n",
    "    def __init__(self):\n",
    "        self.row, self.col = 0, 0 # arbitrary origin\n",
    "        self.dir = (-1, 0)  # up\n",
    "        self.cleaned = set()\n",
    "\n",
    "    def cleanRoom(self, robot):\n",
    "        \"\"\"\n",
    "        :type robot: Robot\n",
    "        :rtype: None\n",
    "        \"\"\""
   ]
  },
  {
   "cell_type": "code",
   "execution_count": 3,
   "metadata": {},
   "outputs": [],
   "source": [
    "Solution().cleanRoom(Robot())"
   ]
  },
  {
   "cell_type": "code",
   "execution_count": 4,
   "metadata": {},
   "outputs": [],
   "source": [
    "robot = Robot()"
   ]
  },
  {
   "cell_type": "code",
   "execution_count": 5,
   "metadata": {},
   "outputs": [
    {
     "data": {
      "text/plain": [
       "[[1, 1, 1, 1, 1, 0, 1, 1],\n",
       " [1, 1, 1, 1, 1, 0, 1, 1],\n",
       " [1, 0, 1, 1, 1, 1, 1, 1],\n",
       " [0, 0, 0, 1, 0, 0, 0, 0],\n",
       " [1, 1, 1, 1, 1, 1, 1, 1]]"
      ]
     },
     "execution_count": 5,
     "metadata": {},
     "output_type": "execute_result"
    }
   ],
   "source": [
    "robot.room"
   ]
  },
  {
   "cell_type": "code",
   "execution_count": 6,
   "metadata": {},
   "outputs": [],
   "source": [
    "robot.clean()"
   ]
  },
  {
   "cell_type": "code",
   "execution_count": 7,
   "metadata": {},
   "outputs": [
    {
     "data": {
      "text/plain": [
       "[[1, 1, 1, 1, 1, 0, 1, 1],\n",
       " [1, 1, 1, 'C', 1, 0, 1, 1],\n",
       " [1, 0, 1, 1, 1, 1, 1, 1],\n",
       " [0, 0, 0, 1, 0, 0, 0, 0],\n",
       " [1, 1, 1, 1, 1, 1, 1, 1]]"
      ]
     },
     "execution_count": 7,
     "metadata": {},
     "output_type": "execute_result"
    }
   ],
   "source": [
    "robot.room"
   ]
  }
 ],
 "metadata": {
  "kernelspec": {
   "display_name": "Python 3",
   "language": "python",
   "name": "python3"
  },
  "language_info": {
   "codemirror_mode": {
    "name": "ipython",
    "version": 3
   },
   "file_extension": ".py",
   "mimetype": "text/x-python",
   "name": "python",
   "nbconvert_exporter": "python",
   "pygments_lexer": "ipython3",
   "version": "3.8.0"
  }
 },
 "nbformat": 4,
 "nbformat_minor": 2
}
