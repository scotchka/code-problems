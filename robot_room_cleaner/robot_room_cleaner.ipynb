{
 "cells": [
  {
   "cell_type": "code",
   "execution_count": 1,
   "metadata": {},
   "outputs": [],
   "source": [
    "class Robot:\n",
    "    \n",
    "    def __init__(self):\n",
    "        self.room = [\n",
    "          [1,1,1,1,1,0,1,1],\n",
    "          [1,1,1,1,1,0,1,1],\n",
    "          [1,0,1,1,1,1,1,1],\n",
    "          [0,0,0,1,0,0,0,0],\n",
    "          [1,1,1,1,1,1,1,1]\n",
    "        ]\n",
    "        self.row = 1\n",
    "        self.col = 3\n",
    "        self.dir = (-1, 0) # up\n",
    "\n",
    "    def move(self):\n",
    "        \"\"\"\n",
    "        Returns true if the cell in front is open and robot moves into the cell.\n",
    "        Returns false if the cell in front is blocked and robot stays in the current cell.\n",
    "        :rtype bool\n",
    "        \"\"\"\n",
    "        delta_row, delta_col = self.dir\n",
    "        \n",
    "        next_row = self.row + delta_row\n",
    "        next_col = self.col + delta_col\n",
    "        \n",
    "        if next_row < 0 or next_row >= len(self.room):\n",
    "            return False\n",
    "        \n",
    "        if next_col < 0 or next_col >= len(self.room[0]):\n",
    "            return False\n",
    "        \n",
    "        if self.room[next_row][next_col] == 0:\n",
    "            return False\n",
    "        \n",
    "        self.row, self.col = next_row, next_col\n",
    "        return True\n",
    "\n",
    "    def turnLeft(self):\n",
    "        \"\"\"\n",
    "        Robot will stay in the same cell after calling turnLeft/turnRight.\n",
    "        Each turn will be 90 degrees.\n",
    "        :rtype void\n",
    "        \"\"\"\n",
    "        delta_row, delta_col = self.dir\n",
    "        \n",
    "        if delta_row == 0:\n",
    "            new_delta_row = -delta_col\n",
    "        else:\n",
    "            new_delta_row = 0\n",
    "            \n",
    "        if delta_col == 0:\n",
    "            new_delta_col = delta_row\n",
    "        else:\n",
    "            new_delta_col = 0\n",
    "            \n",
    "        self.dir = (new_delta_row, new_delta_col)\n",
    "        \n",
    "\n",
    "    def turnRight(self):\n",
    "        \"\"\"\n",
    "        Robot will stay in the same cell after calling turnLeft/turnRight.\n",
    "        Each turn will be 90 degrees.\n",
    "        :rtype void\n",
    "        \"\"\"\n",
    "        delta_row, delta_col = self.dir\n",
    "        \n",
    "        if delta_row == 0:\n",
    "            new_delta_row = delta_col\n",
    "        else:\n",
    "            new_delta_row = 0\n",
    "            \n",
    "        if delta_col == 0:\n",
    "            new_delta_col = -delta_row\n",
    "        else:\n",
    "            new_delta_col = 0\n",
    "            \n",
    "        self.dir = (new_delta_row, new_delta_col)\n",
    "\n",
    "    def clean(self):\n",
    "        \"\"\"\n",
    "        Clean the current cell.\n",
    "        :rtype void\n",
    "        \"\"\"\n",
    "        self.room[self.row][self.col] = 'C'\n",
    "        \n",
    "    \n",
    "    def show_room(self):\n",
    "        room = [[col for col in row] for row in self.room]\n",
    "        room[self.row][self.col] = 'R'\n",
    "        print('\\n'.join(''.join(str(col) for col in row) for row in room))\n",
    "        print()\n"
   ]
  },
  {
   "cell_type": "code",
   "execution_count": 2,
   "metadata": {},
   "outputs": [],
   "source": [
    "UNIT_VECTORS = (\n",
    "    (-1, 0), \n",
    "    (0, 1), \n",
    "    (1, 0), \n",
    "    (0, -1)\n",
    ")\n",
    "\n",
    "class Solution:\n",
    "\n",
    "    def __init__(self):\n",
    "        self.pos = (0, 0) # arbitrary origin\n",
    "        self.dir = 0 # arbitrary direction\n",
    "        self.cleaned = set()\n",
    "\n",
    "    def cleanRoom(self, robot):\n",
    "        \n",
    "        # clean current position\n",
    "        robot.clean()  \n",
    "        self.cleaned.add(self.pos)\n",
    "        \n",
    "        # clean adjacent positions\n",
    "        for _ in range(4):\n",
    "            prev_pos = self.pos\n",
    "            vector = UNIT_VECTORS[self.dir]\n",
    "            next_pos = (prev_pos[0] + vector[0], prev_pos[1] + vector[1])\n",
    "            if next_pos not in self.cleaned and robot.move():\n",
    "                self.pos = next_pos\n",
    "                self.cleanRoom(robot)\n",
    "                \n",
    "                robot.turnRight()\n",
    "                robot.turnRight()\n",
    "                robot.move()\n",
    "                robot.turnLeft()\n",
    "                robot.turnLeft()\n",
    "                \n",
    "                self.pos = prev_pos # return to original position and direction\n",
    "\n",
    "\n",
    "            robot.turnRight()\n",
    "            self.dir = (self.dir + 1) % 4\n",
    "        "
   ]
  },
  {
   "cell_type": "code",
   "execution_count": 3,
   "metadata": {},
   "outputs": [],
   "source": [
    "robot = Robot()\n",
    "solution = Solution()"
   ]
  },
  {
   "cell_type": "code",
   "execution_count": 4,
   "metadata": {},
   "outputs": [
    {
     "name": "stdout",
     "output_type": "stream",
     "text": [
      "11111011\n",
      "111R1011\n",
      "10111111\n",
      "00010000\n",
      "11111111\n",
      "\n"
     ]
    }
   ],
   "source": [
    "robot.show_room()"
   ]
  },
  {
   "cell_type": "code",
   "execution_count": 5,
   "metadata": {},
   "outputs": [],
   "source": [
    "solution.cleanRoom(robot)"
   ]
  },
  {
   "cell_type": "code",
   "execution_count": 6,
   "metadata": {},
   "outputs": [
    {
     "name": "stdout",
     "output_type": "stream",
     "text": [
      "CCCCC0CC\n",
      "CCCRC0CC\n",
      "C0CCCCCC\n",
      "000C0000\n",
      "CCCCCCCC\n",
      "\n"
     ]
    }
   ],
   "source": [
    "robot.show_room()"
   ]
  },
  {
   "cell_type": "code",
   "execution_count": null,
   "metadata": {},
   "outputs": [],
   "source": []
  }
 ],
 "metadata": {
  "kernelspec": {
   "display_name": "Python 3",
   "language": "python",
   "name": "python3"
  },
  "language_info": {
   "codemirror_mode": {
    "name": "ipython",
    "version": 3
   },
   "file_extension": ".py",
   "mimetype": "text/x-python",
   "name": "python",
   "nbconvert_exporter": "python",
   "pygments_lexer": "ipython3",
   "version": "3.8.0"
  }
 },
 "nbformat": 4,
 "nbformat_minor": 2
}
