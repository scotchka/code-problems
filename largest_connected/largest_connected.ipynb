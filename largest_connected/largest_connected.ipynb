{
 "cells": [
  {
   "cell_type": "code",
   "execution_count": 1,
   "metadata": {},
   "outputs": [],
   "source": [
    "import random"
   ]
  },
  {
   "cell_type": "code",
   "execution_count": 2,
   "metadata": {},
   "outputs": [],
   "source": [
    "def generate_array(m, n):\n",
    "    s = ''\n",
    "    for i in range(m):\n",
    "        for j in range(n):\n",
    "            s += str(random.choice((0,1))) + ' '\n",
    "        s += '\\n'\n",
    "        \n",
    "    return s"
   ]
  },
  {
   "cell_type": "code",
   "execution_count": 3,
   "metadata": {},
   "outputs": [],
   "source": [
    "def largest_at(i, j, m, n, array, seen):\n",
    "    seen.add((i, j))\n",
    "    current = array[i][j]\n",
    "    adjacent = []\n",
    "    if i > 0:\n",
    "        adjacent.append((i - 1, j))\n",
    "    if i < m - 1:\n",
    "        adjacent.append((i + 1, j))\n",
    "    if j > 0:\n",
    "        adjacent.append((i, j - 1))\n",
    "    if j < n - 1:\n",
    "        adjacent.append((i, j + 1))\n",
    "    connected = []\n",
    "    coordinates = {(i, j)}\n",
    "    for i, j in adjacent:\n",
    "        if (i, j) not in seen and array[i][j] == current:\n",
    "            size, coords = largest_at(i, j, m, n, array, seen)\n",
    "            connected.append(size)\n",
    "            coordinates.update(coords)\n",
    "    return sum(connected) + 1, coordinates"
   ]
  },
  {
   "cell_type": "code",
   "execution_count": 4,
   "metadata": {},
   "outputs": [],
   "source": [
    "def largest(array_string):\n",
    "    array = []\n",
    "    for row in array_string.strip().split('\\n'):\n",
    "        array.append(row.split())\n",
    "    m = len(array)\n",
    "    n = len(array[0])\n",
    "    max_size = 0\n",
    "    seen = set()\n",
    "    for i in range(m):\n",
    "        for j in range(n):\n",
    "            if (i, j) not in seen:\n",
    "                size, connected = largest_at(i, j, m, n, array, seen)\n",
    "                if size > max_size:\n",
    "                    max_size = size\n",
    "                    max_connected = connected\n",
    "    return array, max_size, max_connected"
   ]
  },
  {
   "cell_type": "code",
   "execution_count": 5,
   "metadata": {},
   "outputs": [],
   "source": [
    "def print_connected(array, coords):\n",
    "    for i in range(len(array)):\n",
    "        for j in range(len(array[i])):\n",
    "            if (i, j) in coords:\n",
    "                print(f\"\\x1b[31m{ array[i][j] }\\x1b[0m\", end=' ')\n",
    "            else:\n",
    "                print(array[i][j], end=' ')\n",
    "        print()"
   ]
  },
  {
   "cell_type": "code",
   "execution_count": 6,
   "metadata": {},
   "outputs": [
    {
     "name": "stdout",
     "output_type": "stream",
     "text": [
      "1 0 0 1 0 1 1 0 0 1 \n",
      "0 1 1 1 0 1 1 0 0 0 \n",
      "0 1 1 1 1 1 1 1 0 1 \n",
      "0 0 0 0 0 0 0 0 0 0 \n",
      "1 0 0 0 0 1 1 0 1 0 \n",
      "1 1 1 1 1 0 1 0 1 0 \n",
      "0 1 0 0 1 0 0 1 0 0 \n",
      "0 0 0 0 0 0 0 0 1 0 \n",
      "0 1 0 1 0 0 1 1 1 1 \n",
      "1 1 0 1 1 0 0 0 1 0 \n",
      "\n"
     ]
    }
   ],
   "source": [
    "s = generate_array(10,10)\n",
    "print(s)\n",
    "array, size, coordinates = largest(s)"
   ]
  },
  {
   "cell_type": "code",
   "execution_count": 7,
   "metadata": {},
   "outputs": [
    {
     "name": "stdout",
     "output_type": "stream",
     "text": [
      "1 0 0 1 0 1 1 \u001b[31m0\u001b[0m \u001b[31m0\u001b[0m 1 \n",
      "\u001b[31m0\u001b[0m 1 1 1 0 1 1 \u001b[31m0\u001b[0m \u001b[31m0\u001b[0m \u001b[31m0\u001b[0m \n",
      "\u001b[31m0\u001b[0m 1 1 1 1 1 1 1 \u001b[31m0\u001b[0m 1 \n",
      "\u001b[31m0\u001b[0m \u001b[31m0\u001b[0m \u001b[31m0\u001b[0m \u001b[31m0\u001b[0m \u001b[31m0\u001b[0m \u001b[31m0\u001b[0m \u001b[31m0\u001b[0m \u001b[31m0\u001b[0m \u001b[31m0\u001b[0m \u001b[31m0\u001b[0m \n",
      "1 \u001b[31m0\u001b[0m \u001b[31m0\u001b[0m \u001b[31m0\u001b[0m \u001b[31m0\u001b[0m 1 1 \u001b[31m0\u001b[0m 1 \u001b[31m0\u001b[0m \n",
      "1 1 1 1 1 0 1 \u001b[31m0\u001b[0m 1 \u001b[31m0\u001b[0m \n",
      "0 1 0 0 1 0 0 1 \u001b[31m0\u001b[0m \u001b[31m0\u001b[0m \n",
      "0 0 0 0 0 0 0 0 1 \u001b[31m0\u001b[0m \n",
      "0 1 0 1 0 0 1 1 1 1 \n",
      "1 1 0 1 1 0 0 0 1 0 \n"
     ]
    }
   ],
   "source": [
    "print_connected(array, coordinates)"
   ]
  },
  {
   "cell_type": "code",
   "execution_count": null,
   "metadata": {},
   "outputs": [],
   "source": []
  },
  {
   "cell_type": "code",
   "execution_count": null,
   "metadata": {},
   "outputs": [],
   "source": []
  }
 ],
 "metadata": {
  "kernelspec": {
   "display_name": "Python 3",
   "language": "python",
   "name": "python3"
  },
  "language_info": {
   "codemirror_mode": {
    "name": "ipython",
    "version": 3
   },
   "file_extension": ".py",
   "mimetype": "text/x-python",
   "name": "python",
   "nbconvert_exporter": "python",
   "pygments_lexer": "ipython3",
   "version": "3.6.5"
  }
 },
 "nbformat": 4,
 "nbformat_minor": 2
}
