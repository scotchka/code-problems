{
 "cells": [
  {
   "cell_type": "code",
   "execution_count": 1,
   "metadata": {},
   "outputs": [],
   "source": [
    "import random\n",
    "from bisect import bisect_left"
   ]
  },
  {
   "cell_type": "code",
   "execution_count": 2,
   "metadata": {},
   "outputs": [],
   "source": [
    "def middle(start, end):\n",
    "    half = (end - start) // 2\n",
    "\n",
    "    if (end - start) % 2 == 1:\n",
    "        return start + half, start + half\n",
    "    else:\n",
    "        return start + half - 1, start + half"
   ]
  },
  {
   "cell_type": "code",
   "execution_count": 3,
   "metadata": {},
   "outputs": [],
   "source": [
    "def sorted_median(lst):\n",
    "    i, j = middle(0, len(lst))\n",
    "    return (lst[i] + lst[j]) / 2"
   ]
  },
  {
   "cell_type": "code",
   "execution_count": 4,
   "metadata": {},
   "outputs": [],
   "source": [
    "def bisect(num, lst, start=0, end=None):\n",
    "    if not end:\n",
    "        end = len(lst)\n",
    "\n",
    "    while end - start > 2:\n",
    "        _, mid = middle(start, end)\n",
    "\n",
    "        if num <= lst[mid]:\n",
    "            end = mid\n",
    "        else:\n",
    "            start = mid + 1\n",
    "\n",
    "    if num <= lst[start]:\n",
    "        return start\n",
    "    elif end - start == 1 or num <= lst[start + 1]:\n",
    "        return start + 1\n",
    "    else:\n",
    "        return start + 2"
   ]
  },
  {
   "cell_type": "code",
   "execution_count": 5,
   "metadata": {},
   "outputs": [],
   "source": [
    "def test_bisect():\n",
    "    for size in range(1, 101):\n",
    "        for _ in range(100):\n",
    "            a = sorted(\n",
    "                [random.randint(-size // 2, size // 2) for _ in range(size)])\n",
    "            extra = random.randint(-size // 2, size // 2)\n",
    "            assert bisect_left(a, extra) == bisect(extra, a)\n",
    "\n",
    "            a = sorted([random.random() for _ in range(size)])\n",
    "            extra = random.random()\n",
    "            assert bisect_left(a, extra) == bisect(extra, a)\n",
    "\n",
    "\n",
    "test_bisect()"
   ]
  },
  {
   "cell_type": "code",
   "execution_count": 6,
   "metadata": {},
   "outputs": [],
   "source": [
    "def one_median(num, lst, start=0, end=None):\n",
    "    if not end:\n",
    "        end = len(lst)\n",
    "\n",
    "    i = bisect(num, lst, start, end)\n",
    "\n",
    "    if (end - start) % 2 == 1:\n",
    "        mid, mid = middle(start, end)\n",
    "        if i < mid:\n",
    "            return (lst[mid - 1] + lst[mid]) / 2\n",
    "        elif i in (mid, mid + 1):\n",
    "            return (num + lst[mid]) / 2\n",
    "        else:\n",
    "            return (lst[mid] + lst[mid + 1]) / 2\n",
    "\n",
    "    else:\n",
    "        left, right = middle(start, end)\n",
    "        if i < right:\n",
    "            return lst[left]\n",
    "        elif i == right:\n",
    "            return num\n",
    "        else:\n",
    "            return lst[right]"
   ]
  },
  {
   "cell_type": "code",
   "execution_count": 7,
   "metadata": {},
   "outputs": [],
   "source": [
    "def test_one_median():\n",
    "    for size in range(1, 101):\n",
    "        for _ in range(100):\n",
    "            a = sorted(\n",
    "                [random.randint(-size // 2, size // 2) for _ in range(size)])\n",
    "            extra = random.randint(-size // 2, size // 2)\n",
    "            assert sorted_median(sorted([extra] + a)) == one_median(extra, a)\n",
    "\n",
    "            a = sorted([random.random() for _ in range(size)])\n",
    "            extra = random.random()\n",
    "            assert sorted_median(sorted([extra] + a)) == one_median(extra, a)\n",
    "\n",
    "\n",
    "test_one_median()"
   ]
  },
  {
   "cell_type": "code",
   "execution_count": 8,
   "metadata": {},
   "outputs": [],
   "source": [
    "def median(a, b):\n",
    "    if len(a) > len(b):\n",
    "        a, b = b, a\n",
    "\n",
    "    start_a = start_b = 0\n",
    "    end_a = len(a)\n",
    "    end_b = len(b)\n",
    "\n",
    "    while end_a - start_a > 1:\n",
    "        i_a, j_a = middle(start_a, end_a)\n",
    "        i_b, j_b = middle(start_b, end_b)\n",
    "\n",
    "        if a[j_a] < b[i_b]:\n",
    "            length = j_a - start_a\n",
    "            start_a += length  # a = a[j:]\n",
    "            end_b -= length  # b = b[:i + 1]\n",
    "\n",
    "        elif b[j_b] < a[i_a]:\n",
    "            length = end_a - (i_a + 1)\n",
    "            end_a -= length  # a = a[:i + 1]\n",
    "            start_b += length  # b = b[j:]\n",
    "\n",
    "        else:\n",
    "            break\n",
    "\n",
    "    if end_a - start_a == 1:\n",
    "        return one_median(a[start_a], b, start_b, end_b)\n",
    "\n",
    "    i_a, j_a = middle(start_a, end_a)\n",
    "    i_b, j_b = middle(start_b, end_b)\n",
    "\n",
    "    if a[i_a] <= b[i_b] <= b[j_b] <= a[j_a]:\n",
    "        return (b[i_b] + b[j_b]) / 2\n",
    "    if b[i_b] <= a[i_a] <= a[j_a] <= b[j_b]:\n",
    "        return (a[i_a] + a[j_a]) / 2\n",
    "\n",
    "    if a[i_a] <= b[i_b] <= a[j_a] <= b[j_b]:\n",
    "        return (b[i_b] + a[j_a]) / 2\n",
    "    if b[i_b] <= a[i_a] <= b[j_b] <= a[j_a]:\n",
    "        return (a[i_a] + b[j_b]) / 2\n",
    "\n",
    "    raise Exception('Should not be reachable.')"
   ]
  },
  {
   "cell_type": "code",
   "execution_count": 9,
   "metadata": {},
   "outputs": [],
   "source": [
    "def test_median():\n",
    "    for size_a in range(1, 101):\n",
    "        for size_b in range(1, 101):\n",
    "            for _ in range(10):\n",
    "                a = sorted([\n",
    "                    random.randint(-size_a // 2, size_a // 2)\n",
    "                    for _ in range(size_a)\n",
    "                ])\n",
    "                b = sorted([\n",
    "                    random.randint(-size_b // 2, size_b // 2)\n",
    "                    for _ in range(size_b)\n",
    "                ])\n",
    "\n",
    "                assert sorted_median(sorted(a + b)) == median(a, b)\n",
    "\n",
    "                a = sorted([random.random() for _ in range(size_a)])\n",
    "                b = sorted([random.random() for _ in range(size_b)])\n",
    "                assert sorted_median(sorted(a + b)) == median(a, b)\n",
    "\n",
    "\n",
    "test_median()"
   ]
  },
  {
   "cell_type": "code",
   "execution_count": null,
   "metadata": {},
   "outputs": [],
   "source": []
  }
 ],
 "metadata": {
  "kernelspec": {
   "display_name": "Python 3",
   "language": "python",
   "name": "python3"
  },
  "language_info": {
   "codemirror_mode": {
    "name": "ipython",
    "version": 3
   },
   "file_extension": ".py",
   "mimetype": "text/x-python",
   "name": "python",
   "nbconvert_exporter": "python",
   "pygments_lexer": "ipython3",
   "version": "3.6.5"
  }
 },
 "nbformat": 4,
 "nbformat_minor": 2
}
